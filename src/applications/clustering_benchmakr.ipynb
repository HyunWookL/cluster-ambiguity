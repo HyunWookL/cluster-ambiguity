{
 "cells": [
  {
   "cell_type": "markdown",
   "metadata": {},
   "source": [
    "### 다시 만들어야할듯;;\n",
    "\n",
    "이번에는 Calinski-Harabasz internal clustering validation 가지고 해야겠음\n",
    "Ambiguity 가 낮은 projection으로만 해야 변동성이 줄어듬을 보여야 할듯 ;;"
   ]
  },
  {
   "cell_type": "code",
   "execution_count": 52,
   "metadata": {},
   "outputs": [],
   "source": [
    "import hdbscan\n",
    "import numpy as np\n",
    "import json, os\n",
    "from tqdm import tqdm\n",
    "from scipy.stats import spearmanr\n",
    "from sklearn.metrics import mean_absolute_percentage_error, mean_absolute_error\n",
    "from sklearn.cluster import DBSCAN\n",
    "import pandas as pd\n",
    "import seaborn as sns\n",
    "import matplotlib.pyplot as plt"
   ]
  },
  {
   "cell_type": "code",
   "execution_count": 56,
   "metadata": {},
   "outputs": [
    {
     "name": "stdout",
     "output_type": "stream",
     "text": [
      "333 314\n"
     ]
    }
   ],
   "source": [
    "## read files in \"../extracted_revised\"\n",
    "\n",
    "data = []\n",
    "prob_more = []\n",
    "entropy = [] ## ambiguity\n",
    "for i, file_name in enumerate(os.listdir(\"../clams/extracted_revised/\")):\n",
    "\tif file_name == \".gitignore\":\n",
    "\t\tcontinue\n",
    "\twith open(\"../clams/extracted_revised/\" + file_name, \"r\") as f:\n",
    "\t\tdatum = json.load(f)\n",
    "\t\tdata.append(datum[\"data\"])\n",
    "\t\tprob_more.append(1 - datum[\"prob_single\"])\n",
    "\t\tif datum[\"prob_single\"] == 0:\n",
    "\t\t\tdatum[\"prob_single\"] = 1e-4\n",
    "\t\tif datum[\"prob_single\"] == 1:\n",
    "\t\t\tdatum[\"prob_single\"] = 1 - 1e-4\n",
    "\t\tentropy.append(\n",
    "\t\t\t- datum[\"prob_single\"] * np.log(datum[\"prob_single\"]) - (1 - datum[\"prob_single\"]) * np.log(1 - datum[\"prob_single\"])\n",
    "\t\t)\n",
    "\n",
    "data = np.array(data, dtype=object)\n",
    "prob_more = np.array(prob_more)\n",
    "entropy = np.array(entropy)\n",
    "\n",
    "entropy_onethird_percentile = np.percentile(entropy, 33.3)\n",
    "entropy_twothird_percentile = np.percentile(entropy, 66.6)\n",
    "\n",
    "\n",
    "## get the list of index that is in the first third of the data\n",
    "\n",
    "first_third_index = np.where(entropy < entropy_onethird_percentile)[0]\n",
    "third_third_index = np.where(entropy > entropy_twothird_percentile)[0]\n",
    "\n",
    "\n",
    "\n"
   ]
  },
  {
   "cell_type": "code",
   "execution_count": 30,
   "metadata": {},
   "outputs": [],
   "source": [
    "hdbscan_range = {\n",
    "\t\"cluster_selection_epsilon\": (0.01, 1.0),\n",
    "\t\"min_samples\" : (1, 10),\n",
    "\t\"min_cluster_size\" : (2, 50),\n",
    "}\n",
    "\n",
    "dbscan_range = {\n",
    "\t\"eps\": (0.01, 1.0),\n",
    "\t\"min_samples\" : (1, 50),\n",
    "}"
   ]
  },
  {
   "cell_type": "code",
   "execution_count": 66,
   "metadata": {},
   "outputs": [],
   "source": [
    "## generate random parameters\n",
    "param_list = []\n",
    "for i in range(200):\n",
    "\tparam = {}\n",
    "\tfor key in dbscan_range:\n",
    "\t\t# param[key] = np.random.uniform(hdbscan_range[key][0], hdbscan_range[key][1])\n",
    "\t\tparam[key] = np.random.uniform(dbscan_range[key][0], dbscan_range[key][1])\n",
    "\t\tif key == \"min_samples\" or key == \"min_cluster_size\":\n",
    "\t\t\tparam[key] = int(param[key])\n",
    "\tparam_list.append(param)"
   ]
  },
  {
   "cell_type": "code",
   "execution_count": 67,
   "metadata": {},
   "outputs": [
    {
     "name": "stderr",
     "output_type": "stream",
     "text": [
      " 50%|█████     | 10/20 [37:29<37:29, 224.91s/it] \n"
     ]
    },
    {
     "ename": "KeyboardInterrupt",
     "evalue": "",
     "output_type": "error",
     "traceback": [
      "\u001b[0;31m---------------------------------------------------------------------------\u001b[0m",
      "\u001b[0;31mKeyboardInterrupt\u001b[0m                         Traceback (most recent call last)",
      "Cell \u001b[0;32mIn [67], line 27\u001b[0m\n\u001b[1;32m     25\u001b[0m \t\tthird_third_subset_optimal_cluster_list[idx][j_idx]\u001b[39m.\u001b[39mappend(clusterer\u001b[39m.\u001b[39mlabels_\u001b[39m.\u001b[39mmax() \u001b[39m+\u001b[39m \u001b[39m1\u001b[39m)\n\u001b[1;32m     26\u001b[0m \t\u001b[39mfor\u001b[39;00m i, _ \u001b[39min\u001b[39;00m \u001b[39menumerate\u001b[39m(entire_subset):\n\u001b[0;32m---> 27\u001b[0m \t\tclusterer\u001b[39m.\u001b[39;49mfit(data[entire_subset[i]])\n\u001b[1;32m     28\u001b[0m \t\tentire_subset_optimal_clusterlist[idx][j_idx]\u001b[39m.\u001b[39mappend(clusterer\u001b[39m.\u001b[39mlabels_\u001b[39m.\u001b[39mmax() \u001b[39m+\u001b[39m \u001b[39m1\u001b[39m)\n\u001b[1;32m     30\u001b[0m \u001b[39m## get the ground truth cluster score\u001b[39;00m\n",
      "File \u001b[0;32m~/anaconda3/envs/cambiguity/lib/python3.9/site-packages/sklearn/cluster/_dbscan.py:334\u001b[0m, in \u001b[0;36mDBSCAN.fit\u001b[0;34m(self, X, y, sample_weight)\u001b[0m\n\u001b[1;32m    332\u001b[0m neighbors_model\u001b[39m.\u001b[39mfit(X)\n\u001b[1;32m    333\u001b[0m \u001b[39m# This has worst case O(n^2) memory complexity\u001b[39;00m\n\u001b[0;32m--> 334\u001b[0m neighborhoods \u001b[39m=\u001b[39m neighbors_model\u001b[39m.\u001b[39;49mradius_neighbors(X,\n\u001b[1;32m    335\u001b[0m                                                  return_distance\u001b[39m=\u001b[39;49m\u001b[39mFalse\u001b[39;49;00m)\n\u001b[1;32m    337\u001b[0m \u001b[39mif\u001b[39;00m sample_weight \u001b[39mis\u001b[39;00m \u001b[39mNone\u001b[39;00m:\n\u001b[1;32m    338\u001b[0m     n_neighbors \u001b[39m=\u001b[39m np\u001b[39m.\u001b[39marray([\u001b[39mlen\u001b[39m(neighbors)\n\u001b[1;32m    339\u001b[0m                             \u001b[39mfor\u001b[39;00m neighbors \u001b[39min\u001b[39;00m neighborhoods])\n",
      "File \u001b[0;32m~/anaconda3/envs/cambiguity/lib/python3.9/site-packages/sklearn/neighbors/_base.py:1049\u001b[0m, in \u001b[0;36mRadiusNeighborsMixin.radius_neighbors\u001b[0;34m(self, X, radius, return_distance, sort_results)\u001b[0m\n\u001b[1;32m   1046\u001b[0m \u001b[39melse\u001b[39;00m:\n\u001b[1;32m   1047\u001b[0m     parallel_kwargs \u001b[39m=\u001b[39m {\u001b[39m\"\u001b[39m\u001b[39mprefer\u001b[39m\u001b[39m\"\u001b[39m: \u001b[39m\"\u001b[39m\u001b[39mthreads\u001b[39m\u001b[39m\"\u001b[39m}\n\u001b[0;32m-> 1049\u001b[0m chunked_results \u001b[39m=\u001b[39m Parallel(n_jobs, \u001b[39m*\u001b[39;49m\u001b[39m*\u001b[39;49mparallel_kwargs)(\n\u001b[1;32m   1050\u001b[0m     delayed_query(\u001b[39mself\u001b[39;49m\u001b[39m.\u001b[39;49m_tree, X[s], radius, return_distance,\n\u001b[1;32m   1051\u001b[0m                   sort_results\u001b[39m=\u001b[39;49msort_results)\n\u001b[1;32m   1052\u001b[0m \n\u001b[1;32m   1053\u001b[0m     \u001b[39mfor\u001b[39;49;00m s \u001b[39min\u001b[39;49;00m gen_even_slices(X\u001b[39m.\u001b[39;49mshape[\u001b[39m0\u001b[39;49m], n_jobs)\n\u001b[1;32m   1054\u001b[0m )\n\u001b[1;32m   1055\u001b[0m \u001b[39mif\u001b[39;00m return_distance:\n\u001b[1;32m   1056\u001b[0m     neigh_ind, neigh_dist \u001b[39m=\u001b[39m \u001b[39mtuple\u001b[39m(\u001b[39mzip\u001b[39m(\u001b[39m*\u001b[39mchunked_results))\n",
      "File \u001b[0;32m~/anaconda3/envs/cambiguity/lib/python3.9/site-packages/joblib/parallel.py:1048\u001b[0m, in \u001b[0;36mParallel.__call__\u001b[0;34m(self, iterable)\u001b[0m\n\u001b[1;32m   1039\u001b[0m \u001b[39mtry\u001b[39;00m:\n\u001b[1;32m   1040\u001b[0m     \u001b[39m# Only set self._iterating to True if at least a batch\u001b[39;00m\n\u001b[1;32m   1041\u001b[0m     \u001b[39m# was dispatched. In particular this covers the edge\u001b[39;00m\n\u001b[0;32m   (...)\u001b[0m\n\u001b[1;32m   1045\u001b[0m     \u001b[39m# was very quick and its callback already dispatched all the\u001b[39;00m\n\u001b[1;32m   1046\u001b[0m     \u001b[39m# remaining jobs.\u001b[39;00m\n\u001b[1;32m   1047\u001b[0m     \u001b[39mself\u001b[39m\u001b[39m.\u001b[39m_iterating \u001b[39m=\u001b[39m \u001b[39mFalse\u001b[39;00m\n\u001b[0;32m-> 1048\u001b[0m     \u001b[39mif\u001b[39;00m \u001b[39mself\u001b[39;49m\u001b[39m.\u001b[39;49mdispatch_one_batch(iterator):\n\u001b[1;32m   1049\u001b[0m         \u001b[39mself\u001b[39m\u001b[39m.\u001b[39m_iterating \u001b[39m=\u001b[39m \u001b[39mself\u001b[39m\u001b[39m.\u001b[39m_original_iterator \u001b[39mis\u001b[39;00m \u001b[39mnot\u001b[39;00m \u001b[39mNone\u001b[39;00m\n\u001b[1;32m   1051\u001b[0m     \u001b[39mwhile\u001b[39;00m \u001b[39mself\u001b[39m\u001b[39m.\u001b[39mdispatch_one_batch(iterator):\n",
      "File \u001b[0;32m~/anaconda3/envs/cambiguity/lib/python3.9/site-packages/joblib/parallel.py:864\u001b[0m, in \u001b[0;36mParallel.dispatch_one_batch\u001b[0;34m(self, iterator)\u001b[0m\n\u001b[1;32m    862\u001b[0m     \u001b[39mreturn\u001b[39;00m \u001b[39mFalse\u001b[39;00m\n\u001b[1;32m    863\u001b[0m \u001b[39melse\u001b[39;00m:\n\u001b[0;32m--> 864\u001b[0m     \u001b[39mself\u001b[39;49m\u001b[39m.\u001b[39;49m_dispatch(tasks)\n\u001b[1;32m    865\u001b[0m     \u001b[39mreturn\u001b[39;00m \u001b[39mTrue\u001b[39;00m\n",
      "File \u001b[0;32m~/anaconda3/envs/cambiguity/lib/python3.9/site-packages/joblib/parallel.py:782\u001b[0m, in \u001b[0;36mParallel._dispatch\u001b[0;34m(self, batch)\u001b[0m\n\u001b[1;32m    780\u001b[0m \u001b[39mwith\u001b[39;00m \u001b[39mself\u001b[39m\u001b[39m.\u001b[39m_lock:\n\u001b[1;32m    781\u001b[0m     job_idx \u001b[39m=\u001b[39m \u001b[39mlen\u001b[39m(\u001b[39mself\u001b[39m\u001b[39m.\u001b[39m_jobs)\n\u001b[0;32m--> 782\u001b[0m     job \u001b[39m=\u001b[39m \u001b[39mself\u001b[39;49m\u001b[39m.\u001b[39;49m_backend\u001b[39m.\u001b[39;49mapply_async(batch, callback\u001b[39m=\u001b[39;49mcb)\n\u001b[1;32m    783\u001b[0m     \u001b[39m# A job can complete so quickly than its callback is\u001b[39;00m\n\u001b[1;32m    784\u001b[0m     \u001b[39m# called before we get here, causing self._jobs to\u001b[39;00m\n\u001b[1;32m    785\u001b[0m     \u001b[39m# grow. To ensure correct results ordering, .insert is\u001b[39;00m\n\u001b[1;32m    786\u001b[0m     \u001b[39m# used (rather than .append) in the following line\u001b[39;00m\n\u001b[1;32m    787\u001b[0m     \u001b[39mself\u001b[39m\u001b[39m.\u001b[39m_jobs\u001b[39m.\u001b[39minsert(job_idx, job)\n",
      "File \u001b[0;32m~/anaconda3/envs/cambiguity/lib/python3.9/site-packages/joblib/_parallel_backends.py:208\u001b[0m, in \u001b[0;36mSequentialBackend.apply_async\u001b[0;34m(self, func, callback)\u001b[0m\n\u001b[1;32m    206\u001b[0m \u001b[39mdef\u001b[39;00m \u001b[39mapply_async\u001b[39m(\u001b[39mself\u001b[39m, func, callback\u001b[39m=\u001b[39m\u001b[39mNone\u001b[39;00m):\n\u001b[1;32m    207\u001b[0m     \u001b[39m\"\"\"Schedule a func to be run\"\"\"\u001b[39;00m\n\u001b[0;32m--> 208\u001b[0m     result \u001b[39m=\u001b[39m ImmediateResult(func)\n\u001b[1;32m    209\u001b[0m     \u001b[39mif\u001b[39;00m callback:\n\u001b[1;32m    210\u001b[0m         callback(result)\n",
      "File \u001b[0;32m~/anaconda3/envs/cambiguity/lib/python3.9/site-packages/joblib/_parallel_backends.py:572\u001b[0m, in \u001b[0;36mImmediateResult.__init__\u001b[0;34m(self, batch)\u001b[0m\n\u001b[1;32m    569\u001b[0m \u001b[39mdef\u001b[39;00m \u001b[39m__init__\u001b[39m(\u001b[39mself\u001b[39m, batch):\n\u001b[1;32m    570\u001b[0m     \u001b[39m# Don't delay the application, to avoid keeping the input\u001b[39;00m\n\u001b[1;32m    571\u001b[0m     \u001b[39m# arguments in memory\u001b[39;00m\n\u001b[0;32m--> 572\u001b[0m     \u001b[39mself\u001b[39m\u001b[39m.\u001b[39mresults \u001b[39m=\u001b[39m batch()\n",
      "File \u001b[0;32m~/anaconda3/envs/cambiguity/lib/python3.9/site-packages/joblib/parallel.py:263\u001b[0m, in \u001b[0;36mBatchedCalls.__call__\u001b[0;34m(self)\u001b[0m\n\u001b[1;32m    259\u001b[0m \u001b[39mdef\u001b[39;00m \u001b[39m__call__\u001b[39m(\u001b[39mself\u001b[39m):\n\u001b[1;32m    260\u001b[0m     \u001b[39m# Set the default nested backend to self._backend but do not set the\u001b[39;00m\n\u001b[1;32m    261\u001b[0m     \u001b[39m# change the default number of processes to -1\u001b[39;00m\n\u001b[1;32m    262\u001b[0m     \u001b[39mwith\u001b[39;00m parallel_backend(\u001b[39mself\u001b[39m\u001b[39m.\u001b[39m_backend, n_jobs\u001b[39m=\u001b[39m\u001b[39mself\u001b[39m\u001b[39m.\u001b[39m_n_jobs):\n\u001b[0;32m--> 263\u001b[0m         \u001b[39mreturn\u001b[39;00m [func(\u001b[39m*\u001b[39margs, \u001b[39m*\u001b[39m\u001b[39m*\u001b[39mkwargs)\n\u001b[1;32m    264\u001b[0m                 \u001b[39mfor\u001b[39;00m func, args, kwargs \u001b[39min\u001b[39;00m \u001b[39mself\u001b[39m\u001b[39m.\u001b[39mitems]\n",
      "File \u001b[0;32m~/anaconda3/envs/cambiguity/lib/python3.9/site-packages/joblib/parallel.py:263\u001b[0m, in \u001b[0;36m<listcomp>\u001b[0;34m(.0)\u001b[0m\n\u001b[1;32m    259\u001b[0m \u001b[39mdef\u001b[39;00m \u001b[39m__call__\u001b[39m(\u001b[39mself\u001b[39m):\n\u001b[1;32m    260\u001b[0m     \u001b[39m# Set the default nested backend to self._backend but do not set the\u001b[39;00m\n\u001b[1;32m    261\u001b[0m     \u001b[39m# change the default number of processes to -1\u001b[39;00m\n\u001b[1;32m    262\u001b[0m     \u001b[39mwith\u001b[39;00m parallel_backend(\u001b[39mself\u001b[39m\u001b[39m.\u001b[39m_backend, n_jobs\u001b[39m=\u001b[39m\u001b[39mself\u001b[39m\u001b[39m.\u001b[39m_n_jobs):\n\u001b[0;32m--> 263\u001b[0m         \u001b[39mreturn\u001b[39;00m [func(\u001b[39m*\u001b[39;49margs, \u001b[39m*\u001b[39;49m\u001b[39m*\u001b[39;49mkwargs)\n\u001b[1;32m    264\u001b[0m                 \u001b[39mfor\u001b[39;00m func, args, kwargs \u001b[39min\u001b[39;00m \u001b[39mself\u001b[39m\u001b[39m.\u001b[39mitems]\n",
      "File \u001b[0;32m~/anaconda3/envs/cambiguity/lib/python3.9/site-packages/sklearn/utils/fixes.py:222\u001b[0m, in \u001b[0;36m_FuncWrapper.__call__\u001b[0;34m(self, *args, **kwargs)\u001b[0m\n\u001b[1;32m    220\u001b[0m \u001b[39mdef\u001b[39;00m \u001b[39m__call__\u001b[39m(\u001b[39mself\u001b[39m, \u001b[39m*\u001b[39margs, \u001b[39m*\u001b[39m\u001b[39m*\u001b[39mkwargs):\n\u001b[1;32m    221\u001b[0m     \u001b[39mwith\u001b[39;00m config_context(\u001b[39m*\u001b[39m\u001b[39m*\u001b[39m\u001b[39mself\u001b[39m\u001b[39m.\u001b[39mconfig):\n\u001b[0;32m--> 222\u001b[0m         \u001b[39mreturn\u001b[39;00m \u001b[39mself\u001b[39;49m\u001b[39m.\u001b[39;49mfunction(\u001b[39m*\u001b[39;49margs, \u001b[39m*\u001b[39;49m\u001b[39m*\u001b[39;49mkwargs)\n",
      "File \u001b[0;32m~/anaconda3/envs/cambiguity/lib/python3.9/site-packages/sklearn/neighbors/_base.py:855\u001b[0m, in \u001b[0;36m_tree_query_radius_parallel_helper\u001b[0;34m(tree, *args, **kwargs)\u001b[0m\n\u001b[1;32m    849\u001b[0m \u001b[39mdef\u001b[39;00m \u001b[39m_tree_query_radius_parallel_helper\u001b[39m(tree, \u001b[39m*\u001b[39margs, \u001b[39m*\u001b[39m\u001b[39m*\u001b[39mkwargs):\n\u001b[1;32m    850\u001b[0m     \u001b[39m\"\"\"Helper for the Parallel calls in RadiusNeighborsMixin.radius_neighbors\u001b[39;00m\n\u001b[1;32m    851\u001b[0m \n\u001b[1;32m    852\u001b[0m \u001b[39m    The Cython method tree.query_radius is not directly picklable by\u001b[39;00m\n\u001b[1;32m    853\u001b[0m \u001b[39m    cloudpickle under PyPy.\u001b[39;00m\n\u001b[1;32m    854\u001b[0m \u001b[39m    \"\"\"\u001b[39;00m\n\u001b[0;32m--> 855\u001b[0m     \u001b[39mreturn\u001b[39;00m tree\u001b[39m.\u001b[39;49mquery_radius(\u001b[39m*\u001b[39;49margs, \u001b[39m*\u001b[39;49m\u001b[39m*\u001b[39;49mkwargs)\n",
      "\u001b[0;31mKeyboardInterrupt\u001b[0m: "
     ]
    }
   ],
   "source": [
    "## run hdbscan with each parameter and get optimal number of clusters\n",
    "iteration = 20\n",
    "\n",
    "first_third_subset_optimal_cluster_list = {}\n",
    "third_third_subset_optimal_cluster_list = {}\n",
    "entire_subset_optimal_clusterlist = {}\n",
    "ground_truth_cluster_score_list = {}\n",
    "for idx in tqdm(range(iteration)):\n",
    "\tfirst_third_subset = np.random.choice(first_third_index, 50, replace=False)\n",
    "\tthird_third_subset = np.random.choice(third_third_index, 50, replace=False)\n",
    "\tentire_subset = np.random.choice(np.arange(len(data)), 50, replace=False)\n",
    "\tfirst_third_subset_optimal_cluster_list[idx] = {}\n",
    "\tthird_third_subset_optimal_cluster_list[idx] = {}\n",
    "\tentire_subset_optimal_clusterlist[idx] = {}\n",
    "\tfor j_idx, param in enumerate(param_list):\n",
    "\t\tclusterer = DBSCAN(**param)\n",
    "\t\tfirst_third_subset_optimal_cluster_list[idx][j_idx] = []\n",
    "\t\tthird_third_subset_optimal_cluster_list[idx][j_idx] = []\n",
    "\t\tentire_subset_optimal_clusterlist[idx][j_idx] = []\n",
    "\t\tfor i, _ in enumerate(first_third_subset):\n",
    "\t\t\tclusterer.fit(data[first_third_subset[i]])\n",
    "\t\t\tfirst_third_subset_optimal_cluster_list[idx][j_idx].append(clusterer.labels_.max() + 1)\n",
    "\t\tfor i, _ in enumerate(third_third_subset):\n",
    "\t\t\tclusterer.fit(data[third_third_subset[i]])\n",
    "\t\t\tthird_third_subset_optimal_cluster_list[idx][j_idx].append(clusterer.labels_.max() + 1)\n",
    "\t\tfor i, _ in enumerate(entire_subset):\n",
    "\t\t\tclusterer.fit(data[entire_subset[i]])\n",
    "\t\t\tentire_subset_optimal_clusterlist[idx][j_idx].append(clusterer.labels_.max() + 1)\n",
    "\n",
    "\t## get the ground truth cluster score\n",
    "\tground_truth_cluster_score_list[idx] = {}\n",
    "\tground_truth_cluster_score_list[idx][\"first_third\"] = prob_more[first_third_subset]\n",
    "\tground_truth_cluster_score_list[idx][\"third_third\"] = prob_more[third_third_subset]\n",
    "\tground_truth_cluster_score_list[idx][\"entire\"] = prob_more[entire_subset]\n"
   ]
  },
  {
   "cell_type": "code",
   "execution_count": null,
   "metadata": {},
   "outputs": [],
   "source": [
    "## for each param, run the mape \n",
    "error_list_first_third_list = []\n",
    "error_list_third_third_list = []\n",
    "error_list_entire_list = []\n",
    "for idx in range(iteration):\n",
    "\t## get the rank of the params for each subset based on the mape score with ground truth\n",
    "\terror_list_first_third = []\n",
    "\terror_list_third_third = []\n",
    "\terror_list_entire = []\n",
    "\tfor j_idx, param in enumerate(param_list):\n",
    "\t\tfor i, datum in enumerate(first_third_subset_optimal_cluster_list[idx][j_idx]):\n",
    "\t\t\tif datum == 1:\n",
    "\t\t\t\tfirst_third_subset_optimal_cluster_list[idx][j_idx][i] = 0\n",
    "\t\t\telse:\n",
    "\t\t\t\tfirst_third_subset_optimal_cluster_list[idx][j_idx][i] = 1\n",
    "\t\tfor i, datum in enumerate(third_third_subset_optimal_cluster_list[idx][j_idx]):\n",
    "\t\t\tif datum == 1:\n",
    "\t\t\t\tthird_third_subset_optimal_cluster_list[idx][j_idx][i] = 0\n",
    "\t\t\telse:\n",
    "\t\t\t\tthird_third_subset_optimal_cluster_list[idx][j_idx][i] = 1\n",
    "\t\tfor i, datum in enumerate(entire_subset_optimal_clusterlist[idx][j_idx]):\n",
    "\t\t\tif datum == 1:\n",
    "\t\t\t\tentire_subset_optimal_clusterlist[idx][j_idx][i] = 0\n",
    "\t\t\telse:\n",
    "\t\t\t\tentire_subset_optimal_clusterlist[idx][j_idx][i] = 1\n",
    "\t\terror = mean_absolute_error(\n",
    "\t\t\tground_truth_cluster_score_list[idx][\"first_third\"], \n",
    "\t\t\tfirst_third_subset_optimal_cluster_list[idx][j_idx]\n",
    "\t\t)\n",
    "\t\terror_list_first_third.append(error)\n",
    "\t\terror = mean_absolute_error(\n",
    "\t\t\tground_truth_cluster_score_list[idx][\"third_third\"],\n",
    "\t\t\tthird_third_subset_optimal_cluster_list[idx][j_idx]\n",
    "\t\t)\n",
    "\t\terror_list_third_third.append(error)\n",
    "\t\terror = mean_absolute_error(\n",
    "\t\t\tground_truth_cluster_score_list[idx][\"entire\"],\n",
    "\t\t\tentire_subset_optimal_clusterlist[idx][j_idx]\n",
    "\t\t)\n",
    "\t\terror_list_entire.append(error)\n",
    "\terror_list_first_third_list.append(error_list_first_third)\n",
    "\terror_list_third_third_list.append(error_list_third_third)\n",
    "\terror_list_entire_list.append(error_list_entire)\n",
    "\t\n",
    "\n",
    "## run pairwise spearmanr correlation between the error list within error list list\n",
    "\n",
    "\n",
    "first_third_spearmanr_list = []\n",
    "third_third_spearmanr_list = []\n",
    "entire_spearmanr_list = []\n",
    "for i in range(iteration):\n",
    "\tfor j in range(i+1, iteration):\n",
    "\t\tfirst_third_spearmanr_list.append(spearmanr(error_list_first_third_list[i], error_list_first_third_list[j])[0])\n",
    "\t\tthird_third_spearmanr_list.append(spearmanr(error_list_third_third_list[i], error_list_third_third_list[j])[0])\n",
    "\t\tentire_spearmanr_list.append(spearmanr(error_list_entire_list[i], error_list_entire_list[j])[0])\n",
    "\n",
    "\n"
   ]
  },
  {
   "cell_type": "code",
   "execution_count": 64,
   "metadata": {},
   "outputs": [
    {
     "name": "stdout",
     "output_type": "stream",
     "text": [
      "first third spearmanr:  0.6774295382170122 0.18507577495745972\n",
      "third third spearmanr:  0.9742334109838252 0.035541460428453096\n",
      "entire spearmanr:  0.7473137036278882 0.14411993612142657\n"
     ]
    },
    {
     "data": {
      "image/png": "[encoded data removed]",
      "text/plain": [
       "<Figure size 640x480 with 1 Axes>"
      ]
     },
     "metadata": {},
     "output_type": "display_data"
    }
   ],
   "source": [
    "print(\"first third spearmanr: \", np.mean(first_third_spearmanr_list), np.std(first_third_spearmanr_list))\n",
    "print(\"third third spearmanr: \", np.mean(third_third_spearmanr_list), np.std(third_third_spearmanr_list))\n",
    "print(\"entire spearmanr: \", np.mean(entire_spearmanr_list), np.std(entire_spearmanr_list))\n",
    "\n",
    "\n",
    "\n",
    "## draw boxplot\n",
    "df = pd.DataFrame({\n",
    "\t\"corr\": first_third_spearmanr_list + third_third_spearmanr_list + entire_spearmanr_list,\n",
    "\t\"subset\": [\"first third\"] * len(first_third_spearmanr_list) + [\"third third\"] * len(third_third_spearmanr_list) + [\"entire\"] * len(entire_spearmanr_list)\n",
    "})\n",
    "\n",
    "\n",
    "sns.set(style=\"whitegrid\")\n",
    "ax = sns.boxplot(x=\"subset\", y=\"corr\", data=df)\n",
    "plt.show()"
   ]
  }
 ],
 "metadata": {
  "kernelspec": {
   "display_name": "Python 3.9.15 ('cambiguity')",
   "language": "python",
   "name": "python3"
  },
  "language_info": {
   "codemirror_mode": {
    "name": "ipython",
    "version": 3
   },
   "file_extension": ".py",
   "mimetype": "text/x-python",
   "name": "python",
   "nbconvert_exporter": "python",
   "pygments_lexer": "ipython3",
   "version": "3.9.15 (main, Nov 24 2022, 14:31:59) \n[GCC 11.2.0]"
  },
  "orig_nbformat": 4,
  "vscode": {
   "interpreter": {
    "hash": "67b843df68ad62ab9d9a308ac42d910ba8af5accaed8452594a7c98329634d46"
   }
  }
 },
 "nbformat": 4,
 "nbformat_minor": 2
}
