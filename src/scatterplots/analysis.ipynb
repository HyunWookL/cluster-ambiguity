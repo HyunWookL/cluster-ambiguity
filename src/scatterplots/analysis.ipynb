{
 "cells": [
  {
   "cell_type": "code",
   "execution_count": 19,
   "metadata": {},
   "outputs": [],
   "source": [
    "import numpy as np\n",
    "import json, os\n",
    "## import spearmanr\n",
    "from scipy.stats import spearmanr, pearsonr\n",
    "import matplotlib.pyplot as plt\n",
    "from sklearn.metrics import adjusted_mutual_info_score, v_measure_score, adjusted_rand_score"
   ]
  },
  {
   "cell_type": "code",
   "execution_count": 2,
   "metadata": {},
   "outputs": [],
   "source": [
    "## ambiguity load\n",
    "with open(\"./sampling/key_to_ambiguity.json\", \"r\") as f:\n",
    "\tkey_to_ambiguity = json.load(f)\n",
    "\n",
    "with open(\"./sampling/sampled_datasets_training.json\", \"r\") as f:\n",
    "\tsampled_datasets_training = json.load(f)\n",
    "\n",
    "for dataset in sampled_datasets_training:\n",
    "\n",
    "\tdel key_to_ambiguity[dataset + \".npy\"]\n",
    "\n",
    "\n",
    "\n",
    "keys = list(key_to_ambiguity.keys())\n",
    "ambiguities = np.array(list(key_to_ambiguity.values()))"
   ]
  },
  {
   "cell_type": "code",
   "execution_count": 3,
   "metadata": {},
   "outputs": [],
   "source": [
    "## study result load\n",
    "\n",
    "study_result = []\n",
    "for part in os.listdir(\"./pilot_result/\"):\n",
    "\n",
    "\tif part[-5:] == \".json\":\n",
    "\t\twith open(f\"./pilot_result/{part}\", \"r\") as f:\n",
    "\t\t\tstudy_result.append(json.load(f))\n"
   ]
  },
  {
   "cell_type": "code",
   "execution_count": 4,
   "metadata": {},
   "outputs": [
    {
     "name": "stdout",
     "output_type": "stream",
     "text": [
      "User-selected ambiguity: [ 0.75  0.25  0.75 -1.   -0.25  0.75 -0.5  -0.5   0.5  -0.25  0.25  0.\n",
      " -0.25  1.   -0.5   0.   -0.25  0.75 -0.5   0.25 -0.5   0.5   0.25 -0.5\n",
      " -1.    0.75  0.75  0.75 -0.25  0.25  1.   -0.5   0.5   0.   -0.5  -0.5\n",
      " -0.25 -0.25  0.25  0.25  0.5  -1.    0.   -0.5  -0.75  0.5  -0.5  -0.75\n",
      " -0.75 -0.5  -1.   -0.5   0.5  -0.75  0.75 -0.25 -0.75 -0.25 -0.75  0.5 ]\n",
      "True ambiguity: [0.99234854 0.60574752 0.40364154 0.07799463 0.66643139 0.38397435\n",
      " 0.6003672  0.61960521 0.74792177 0.27720671 0.5883924  0.49439848\n",
      " 0.37139514 0.43686553 0.50038344 0.48746622 0.58768557 0.28997135\n",
      " 0.33691837 0.73848069 0.27761319 0.38493709 0.45505529 0.25768253\n",
      " 0.21067107 0.39206448 0.40503584 0.37061197 0.21662641 0.34213579\n",
      " 0.48873527 0.32739775 0.52004963 0.4134817  0.19936464 0.57263422\n",
      " 0.32973745 0.34916045 0.43738458 0.76852967 0.45530829 0.21787066\n",
      " 0.21648879 0.22286515 0.3147743  0.43850514 0.32228917 0.14963838\n",
      " 0.28120237 0.26403637 0.27642686 0.24649348 0.44568185 0.25038673\n",
      " 0.30950938 0.3035802  0.24307457 0.39470996 0.18494375 0.39758673]\n"
     ]
    }
   ],
   "source": [
    "## user-selected ambiguity\n",
    "user_selected_ambiguity = np.zeros(len(keys))\n",
    "for result in study_result:\n",
    "\tfor i, key in enumerate(keys):\n",
    "\t\tif result[\"ambiguity\"][key] == \"amb\":\n",
    "\t\t\tuser_selected_ambiguity[i] += 1\n",
    "\t\telif result[\"ambiguity\"][key] == \"unclear\":\n",
    "\t\t\tuser_selected_ambiguity[i] += 0\n",
    "\t\telif result[\"ambiguity\"][key] == \"not_emb\":\n",
    "\t\t\tuser_selected_ambiguity[i] -=1\n",
    "\n",
    "user_selected_ambiguity /= len(study_result)\n",
    "\n",
    "print(f\"User-selected ambiguity: {user_selected_ambiguity}\")\n",
    "print(f\"True ambiguity: {ambiguities}\")"
   ]
  },
  {
   "cell_type": "code",
   "execution_count": 25,
   "metadata": {},
   "outputs": [],
   "source": [
    "ami_ambiguity_list = []\n",
    "arand_ambiguity_list = []\n",
    "v_measure_score_list = []\n",
    "\n",
    "for key in keys:\n",
    "\tlabels = []\n",
    "\tfor result in study_result:\n",
    "\t\tlasso_result = result[\"lassoResult\"][key]\n",
    "\t\tlabel = [\"-1\"] * len(lasso_result[\"0\"])\n",
    "\t\tfor brushIdx in lasso_result:\n",
    "\t\t\tbrush = lasso_result[brushIdx]\n",
    "\t\t\tfor i, point in enumerate(brush):\n",
    "\t\t\t\tif point == True:\n",
    "\t\t\t\t\tif label[i] == \"-1\":\n",
    "\t\t\t\t\t\tlabel[i] = brushIdx\n",
    "\t\t\t\t\telse:\n",
    "\t\t\t\t\t\tlabel[i] += \"_\" + brushIdx\n",
    "\n",
    "\t\tlabels.append(label)\n",
    "\t\n",
    "\tcurr_ami = []\n",
    "\tcurr_arand = []\n",
    "\tcurr_vm = []\n",
    "\tfor i_idx in range(len(labels)):\n",
    "\t\tfor j_idx in range(i_idx+1, len(labels)):\n",
    "\t\t\tcurr_ami.append(1 - adjusted_mutual_info_score(labels[i_idx], labels[j_idx]))\n",
    "\t\t\tcurr_arand.append(1 - adjusted_rand_score(labels[i_idx], labels[j_idx]))\n",
    "\t\t\tcurr_vm.append(1 - v_measure_score(labels[i_idx], labels[j_idx]))\n",
    "\t\n",
    "\tami_ambiguity_list.append(np.mean(curr_ami))\n",
    "\tarand_ambiguity_list.append(np.mean(curr_arand))\n",
    "\tv_measure_score_list.append(np.mean(curr_vm))\n",
    "\n"
   ]
  },
  {
   "cell_type": "code",
   "execution_count": null,
   "metadata": {},
   "outputs": [],
   "source": []
  },
  {
   "cell_type": "code",
   "execution_count": 35,
   "metadata": {},
   "outputs": [
    {
     "name": "stdout",
     "output_type": "stream",
     "text": [
      "SpearmanrResult(correlation=0.5507283947780811, pvalue=5.133325600198622e-06)\n",
      "SpearmanrResult(correlation=0.636065573770492, pvalue=4.7277868888919626e-08)\n",
      "SpearmanrResult(correlation=0.6413448180050014, pvalue=3.3718778082468293e-08)\n",
      "----------\n",
      "SpearmanrResult(correlation=0.6687797227100704, pvalue=5.217875483009867e-09)\n"
     ]
    },
    {
     "data": {
      "text/plain": [
       "Text(0, 0.5, 'V-measure score based ambiguity')"
      ]
     },
     "execution_count": 35,
     "metadata": {},
     "output_type": "execute_result"
    },
    {
     "data": {
      "image/png": "[encoded data removed]",
      "text/plain": [
       "<Figure size 640x480 with 1 Axes>"
      ]
     },
     "metadata": {},
     "output_type": "display_data"
    }
   ],
   "source": [
    "print(spearmanr(ambiguities, user_selected_ambiguity))\n",
    "print(spearmanr(ambiguities, ami_ambiguity_list))\n",
    "print(spearmanr(ambiguities, v_measure_score_list))\n",
    "print(\"----------\")\n",
    "print(spearmanr(user_selected_ambiguity, ami_ambiguity_list))\n",
    "\n",
    "plt.scatter(ambiguities, user_selected_ambiguity)\n",
    "plt.xlabel(\"CLAMS\")\n",
    "plt.ylabel(\"V-measure score based ambiguity\")\n",
    "\n"
   ]
  },
  {
   "cell_type": "code",
   "execution_count": 44,
   "metadata": {},
   "outputs": [
    {
     "data": {
      "text/plain": [
       "SpearmanrResult(correlation=0.8357296286632528, pvalue=9.882943907375193e-17)"
      ]
     },
     "execution_count": 44,
     "metadata": {},
     "output_type": "execute_result"
    }
   ],
   "source": [
    "ambiguities.sort()\n",
    "\n",
    "fake = [-1] * 39 + [0] * 3 + [1] * 18\n",
    "\n",
    "spearmanr(ambiguities, fake)"
   ]
  }
 ],
 "metadata": {
  "kernelspec": {
   "display_name": "cambiguity",
   "language": "python",
   "name": "python3"
  },
  "language_info": {
   "codemirror_mode": {
    "name": "ipython",
    "version": 3
   },
   "file_extension": ".py",
   "mimetype": "text/x-python",
   "name": "python",
   "nbconvert_exporter": "python",
   "pygments_lexer": "ipython3",
   "version": "3.9.15"
  },
  "orig_nbformat": 4,
  "vscode": {
   "interpreter": {
    "hash": "67b843df68ad62ab9d9a308ac42d910ba8af5accaed8452594a7c98329634d46"
   }
  }
 },
 "nbformat": 4,
 "nbformat_minor": 2
}
