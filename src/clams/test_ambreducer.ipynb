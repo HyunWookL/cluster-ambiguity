{
 "cells": [
  {
   "cell_type": "code",
   "execution_count": 17,
   "metadata": {},
   "outputs": [
    {
     "data": {
      "text/plain": [
       "<module 'AmbReducer' from '/home/hj/cluster-ambiguity/src/clams/AmbReducer.py'>"
      ]
     },
     "execution_count": 17,
     "metadata": {},
     "output_type": "execute_result"
    }
   ],
   "source": [
    "import importlib\n",
    "import numpy as np\n",
    "\n",
    "import umap\n",
    "from sklearn.manifold import TSNE\n",
    "from sklearn.datasets import load_digits\n",
    "\n",
    "import matplotlib.pyplot as plt\n",
    "\n",
    "from bayes_opt import BayesianOptimization\n",
    "\n",
    "import AmbReducer as ambr\n",
    "\n",
    "from snc.snc import SNC\n",
    "importlib.reload(ambr)"
   ]
  },
  {
   "cell_type": "code",
   "execution_count": 33,
   "metadata": {},
   "outputs": [
    {
     "name": "stdout",
     "output_type": "stream",
     "text": [
      "|   iter    |  target   | perple... |\n",
      "-------------------------------------\n"
     ]
    },
    {
     "ename": "TypeError",
     "evalue": "float() argument must be a string or a number, not 'Bunch'",
     "output_type": "error",
     "traceback": [
      "\u001b[0;31m---------------------------------------------------------------------------\u001b[0m",
      "\u001b[0;31mKeyError\u001b[0m                                  Traceback (most recent call last)",
      "File \u001b[0;32m~/anaconda3/envs/cambiguity/lib/python3.9/site-packages/bayes_opt/target_space.py:191\u001b[0m, in \u001b[0;36mTargetSpace.probe\u001b[0;34m(self, params)\u001b[0m\n\u001b[1;32m    190\u001b[0m \u001b[39mtry\u001b[39;00m:\n\u001b[0;32m--> 191\u001b[0m     target \u001b[39m=\u001b[39m \u001b[39mself\u001b[39;49m\u001b[39m.\u001b[39;49m_cache[_hashable(x)]\n\u001b[1;32m    192\u001b[0m \u001b[39mexcept\u001b[39;00m \u001b[39mKeyError\u001b[39;00m:\n",
      "\u001b[0;31mKeyError\u001b[0m: (276.66268444402573,)",
      "\nDuring handling of the above exception, another exception occurred:\n",
      "\u001b[0;31mTypeError\u001b[0m                                 Traceback (most recent call last)",
      "\u001b[1;32m/home/hj/cluster-ambiguity/src/clams/test_ambreducer.ipynb Cell 2\u001b[0m in \u001b[0;36m<cell line: 25>\u001b[0;34m()\u001b[0m\n\u001b[1;32m     <a href='vscode-notebook-cell://ssh-remote%2Bold.hcil.snu.ac.kr/home/hj/cluster-ambiguity/src/clams/test_ambreducer.ipynb#W1sdnNjb2RlLXJlbW90ZQ%3D%3D?line=13'>14</a>\u001b[0m \t\u001b[39mreturn\u001b[39;00m (stead \u001b[39m*\u001b[39m cohev) \u001b[39m/\u001b[39m (stead \u001b[39m+\u001b[39m cohev)\n\u001b[1;32m     <a href='vscode-notebook-cell://ssh-remote%2Bold.hcil.snu.ac.kr/home/hj/cluster-ambiguity/src/clams/test_ambreducer.ipynb#W1sdnNjb2RlLXJlbW90ZQ%3D%3D?line=15'>16</a>\u001b[0m optimizer \u001b[39m=\u001b[39m BayesianOptimization(\n\u001b[1;32m     <a href='vscode-notebook-cell://ssh-remote%2Bold.hcil.snu.ac.kr/home/hj/cluster-ambiguity/src/clams/test_ambreducer.ipynb#W1sdnNjb2RlLXJlbW90ZQ%3D%3D?line=16'>17</a>\u001b[0m \tf\u001b[39m=\u001b[39mget_loss,\n\u001b[1;32m     <a href='vscode-notebook-cell://ssh-remote%2Bold.hcil.snu.ac.kr/home/hj/cluster-ambiguity/src/clams/test_ambreducer.ipynb#W1sdnNjb2RlLXJlbW90ZQ%3D%3D?line=17'>18</a>\u001b[0m \tpbounds\u001b[39m=\u001b[39m{\n\u001b[0;32m   (...)\u001b[0m\n\u001b[1;32m     <a href='vscode-notebook-cell://ssh-remote%2Bold.hcil.snu.ac.kr/home/hj/cluster-ambiguity/src/clams/test_ambreducer.ipynb#W1sdnNjb2RlLXJlbW90ZQ%3D%3D?line=21'>22</a>\u001b[0m \tverbose\u001b[39m=\u001b[39m\u001b[39m2\u001b[39m\n\u001b[1;32m     <a href='vscode-notebook-cell://ssh-remote%2Bold.hcil.snu.ac.kr/home/hj/cluster-ambiguity/src/clams/test_ambreducer.ipynb#W1sdnNjb2RlLXJlbW90ZQ%3D%3D?line=22'>23</a>\u001b[0m )\n\u001b[0;32m---> <a href='vscode-notebook-cell://ssh-remote%2Bold.hcil.snu.ac.kr/home/hj/cluster-ambiguity/src/clams/test_ambreducer.ipynb#W1sdnNjb2RlLXJlbW90ZQ%3D%3D?line=24'>25</a>\u001b[0m optimizer\u001b[39m.\u001b[39;49mmaximize(init_points\u001b[39m=\u001b[39;49m\u001b[39m5\u001b[39;49m, n_iter\u001b[39m=\u001b[39;49m\u001b[39m25\u001b[39;49m)\n\u001b[1;32m     <a href='vscode-notebook-cell://ssh-remote%2Bold.hcil.snu.ac.kr/home/hj/cluster-ambiguity/src/clams/test_ambreducer.ipynb#W1sdnNjb2RlLXJlbW90ZQ%3D%3D?line=26'>27</a>\u001b[0m max_hyperparameter \u001b[39m=\u001b[39m optimizer\u001b[39m.\u001b[39mmax[\u001b[39m\"\u001b[39m\u001b[39mparams\u001b[39m\u001b[39m\"\u001b[39m]\n\u001b[1;32m     <a href='vscode-notebook-cell://ssh-remote%2Bold.hcil.snu.ac.kr/home/hj/cluster-ambiguity/src/clams/test_ambreducer.ipynb#W1sdnNjb2RlLXJlbW90ZQ%3D%3D?line=27'>28</a>\u001b[0m \u001b[39mif\u001b[39;00m method \u001b[39m==\u001b[39m \u001b[39m\"\u001b[39m\u001b[39mtsne\u001b[39m\u001b[39m\"\u001b[39m:\n",
      "File \u001b[0;32m~/anaconda3/envs/cambiguity/lib/python3.9/site-packages/bayes_opt/bayesian_optimization.py:185\u001b[0m, in \u001b[0;36mBayesianOptimization.maximize\u001b[0;34m(self, init_points, n_iter, acq, kappa, kappa_decay, kappa_decay_delay, xi, **gp_params)\u001b[0m\n\u001b[1;32m    182\u001b[0m     x_probe \u001b[39m=\u001b[39m \u001b[39mself\u001b[39m\u001b[39m.\u001b[39msuggest(util)\n\u001b[1;32m    183\u001b[0m     iteration \u001b[39m+\u001b[39m\u001b[39m=\u001b[39m \u001b[39m1\u001b[39m\n\u001b[0;32m--> 185\u001b[0m \u001b[39mself\u001b[39;49m\u001b[39m.\u001b[39;49mprobe(x_probe, lazy\u001b[39m=\u001b[39;49m\u001b[39mFalse\u001b[39;49;00m)\n\u001b[1;32m    187\u001b[0m \u001b[39mif\u001b[39;00m \u001b[39mself\u001b[39m\u001b[39m.\u001b[39m_bounds_transformer:\n\u001b[1;32m    188\u001b[0m     \u001b[39mself\u001b[39m\u001b[39m.\u001b[39mset_bounds(\n\u001b[1;32m    189\u001b[0m         \u001b[39mself\u001b[39m\u001b[39m.\u001b[39m_bounds_transformer\u001b[39m.\u001b[39mtransform(\u001b[39mself\u001b[39m\u001b[39m.\u001b[39m_space))\n",
      "File \u001b[0;32m~/anaconda3/envs/cambiguity/lib/python3.9/site-packages/bayes_opt/bayesian_optimization.py:116\u001b[0m, in \u001b[0;36mBayesianOptimization.probe\u001b[0;34m(self, params, lazy)\u001b[0m\n\u001b[1;32m    114\u001b[0m     \u001b[39mself\u001b[39m\u001b[39m.\u001b[39m_queue\u001b[39m.\u001b[39madd(params)\n\u001b[1;32m    115\u001b[0m \u001b[39melse\u001b[39;00m:\n\u001b[0;32m--> 116\u001b[0m     \u001b[39mself\u001b[39;49m\u001b[39m.\u001b[39;49m_space\u001b[39m.\u001b[39;49mprobe(params)\n\u001b[1;32m    117\u001b[0m     \u001b[39mself\u001b[39m\u001b[39m.\u001b[39mdispatch(Events\u001b[39m.\u001b[39mOPTIMIZATION_STEP)\n",
      "File \u001b[0;32m~/anaconda3/envs/cambiguity/lib/python3.9/site-packages/bayes_opt/target_space.py:194\u001b[0m, in \u001b[0;36mTargetSpace.probe\u001b[0;34m(self, params)\u001b[0m\n\u001b[1;32m    192\u001b[0m \u001b[39mexcept\u001b[39;00m \u001b[39mKeyError\u001b[39;00m:\n\u001b[1;32m    193\u001b[0m     params \u001b[39m=\u001b[39m \u001b[39mdict\u001b[39m(\u001b[39mzip\u001b[39m(\u001b[39mself\u001b[39m\u001b[39m.\u001b[39m_keys, x))\n\u001b[0;32m--> 194\u001b[0m     target \u001b[39m=\u001b[39m \u001b[39mself\u001b[39;49m\u001b[39m.\u001b[39;49mtarget_func(\u001b[39m*\u001b[39;49m\u001b[39m*\u001b[39;49mparams)\n\u001b[1;32m    195\u001b[0m     \u001b[39mself\u001b[39m\u001b[39m.\u001b[39mregister(x, target)\n\u001b[1;32m    196\u001b[0m \u001b[39mreturn\u001b[39;00m target\n",
      "\u001b[1;32m/home/hj/cluster-ambiguity/src/clams/test_ambreducer.ipynb Cell 2\u001b[0m in \u001b[0;36mget_loss\u001b[0;34m(**kwargs)\u001b[0m\n\u001b[1;32m      <a href='vscode-notebook-cell://ssh-remote%2Bold.hcil.snu.ac.kr/home/hj/cluster-ambiguity/src/clams/test_ambreducer.ipynb#W1sdnNjb2RlLXJlbW90ZQ%3D%3D?line=4'>5</a>\u001b[0m \u001b[39mdef\u001b[39;00m \u001b[39mget_loss\u001b[39m(\u001b[39m*\u001b[39m\u001b[39m*\u001b[39mkwargs):\n\u001b[1;32m      <a href='vscode-notebook-cell://ssh-remote%2Bold.hcil.snu.ac.kr/home/hj/cluster-ambiguity/src/clams/test_ambreducer.ipynb#W1sdnNjb2RlLXJlbW90ZQ%3D%3D?line=5'>6</a>\u001b[0m \t\u001b[39m# if method == \"tsne\":\u001b[39;00m\n\u001b[1;32m      <a href='vscode-notebook-cell://ssh-remote%2Bold.hcil.snu.ac.kr/home/hj/cluster-ambiguity/src/clams/test_ambreducer.ipynb#W1sdnNjb2RlLXJlbW90ZQ%3D%3D?line=6'>7</a>\u001b[0m \t\u001b[39m# \temb = TSNE(n_components=2, perplexity=kwargs[\"perplexity\"], random_state=0).fit_transform(digits)\u001b[39;00m\n\u001b[1;32m      <a href='vscode-notebook-cell://ssh-remote%2Bold.hcil.snu.ac.kr/home/hj/cluster-ambiguity/src/clams/test_ambreducer.ipynb#W1sdnNjb2RlLXJlbW90ZQ%3D%3D?line=7'>8</a>\u001b[0m \t\u001b[39m# elif method == \"umap\":\u001b[39;00m\n\u001b[1;32m      <a href='vscode-notebook-cell://ssh-remote%2Bold.hcil.snu.ac.kr/home/hj/cluster-ambiguity/src/clams/test_ambreducer.ipynb#W1sdnNjb2RlLXJlbW90ZQ%3D%3D?line=8'>9</a>\u001b[0m \t\u001b[39m# \temb = umap.UMAP(n_components=2, n_neighbors=int(kwargs[\"n_neighbors\"]), min_dist=kwargs[\"min_dist\"], random_state=0).fit_transform(digits)\u001b[39;00m\n\u001b[1;32m     <a href='vscode-notebook-cell://ssh-remote%2Bold.hcil.snu.ac.kr/home/hj/cluster-ambiguity/src/clams/test_ambreducer.ipynb#W1sdnNjb2RlLXJlbW90ZQ%3D%3D?line=9'>10</a>\u001b[0m \temb\u001b[39m=\u001b[39mdigits\n\u001b[0;32m---> <a href='vscode-notebook-cell://ssh-remote%2Bold.hcil.snu.ac.kr/home/hj/cluster-ambiguity/src/clams/test_ambreducer.ipynb#W1sdnNjb2RlLXJlbW90ZQ%3D%3D?line=10'>11</a>\u001b[0m \tmetrics \u001b[39m=\u001b[39m SNC(digits, emb, iteration\u001b[39m=\u001b[39;49m\u001b[39m300\u001b[39;49m)\n\u001b[1;32m     <a href='vscode-notebook-cell://ssh-remote%2Bold.hcil.snu.ac.kr/home/hj/cluster-ambiguity/src/clams/test_ambreducer.ipynb#W1sdnNjb2RlLXJlbW90ZQ%3D%3D?line=11'>12</a>\u001b[0m \tmetrics\u001b[39m.\u001b[39mfit()\n\u001b[1;32m     <a href='vscode-notebook-cell://ssh-remote%2Bold.hcil.snu.ac.kr/home/hj/cluster-ambiguity/src/clams/test_ambreducer.ipynb#W1sdnNjb2RlLXJlbW90ZQ%3D%3D?line=12'>13</a>\u001b[0m \tstead, cohev \u001b[39m=\u001b[39m metrics\u001b[39m.\u001b[39msteadiness(), metrics\u001b[39m.\u001b[39mcohesiveness()\n",
      "File \u001b[0;32m~/anaconda3/envs/cambiguity/lib/python3.9/site-packages/snc/snc.py:22\u001b[0m, in \u001b[0;36mSNC.__init__\u001b[0;34m(self, raw, emb, iteration, walk_num_ratio, dist_strategy, dist_parameter, dist_function, cluster_strategy)\u001b[0m\n\u001b[1;32m      9\u001b[0m \u001b[39mdef\u001b[39;00m \u001b[39m__init__\u001b[39m(\n\u001b[1;32m     10\u001b[0m              \u001b[39mself\u001b[39m,\n\u001b[1;32m     11\u001b[0m              raw,                      \u001b[39m# raw data\u001b[39;00m\n\u001b[0;32m   (...)\u001b[0m\n\u001b[1;32m     20\u001b[0m              cluster_strategy\u001b[39m=\u001b[39m\u001b[39m\"\u001b[39m\u001b[39mdbscan\u001b[39m\u001b[39m\"\u001b[39m \u001b[39m# determines the way to consider clusters\u001b[39;00m\n\u001b[1;32m     21\u001b[0m             ):\n\u001b[0;32m---> 22\u001b[0m     \u001b[39mself\u001b[39m\u001b[39m.\u001b[39mraw  \u001b[39m=\u001b[39m np\u001b[39m.\u001b[39;49marray(raw, dtype\u001b[39m=\u001b[39;49mnp\u001b[39m.\u001b[39;49mfloat64)\n\u001b[1;32m     23\u001b[0m     \u001b[39mself\u001b[39m\u001b[39m.\u001b[39memb  \u001b[39m=\u001b[39m np\u001b[39m.\u001b[39marray(emb, dtype\u001b[39m=\u001b[39mnp\u001b[39m.\u001b[39mfloat64)\n\u001b[1;32m     24\u001b[0m     \u001b[39mself\u001b[39m\u001b[39m.\u001b[39mN    \u001b[39m=\u001b[39m \u001b[39mlen\u001b[39m(raw)    \u001b[39m# number of points\u001b[39;00m\n",
      "\u001b[0;31mTypeError\u001b[0m: float() argument must be a string or a number, not 'Bunch'"
     ]
    }
   ],
   "source": [
    "digits = load_digits().data\n",
    "\n",
    "method = \"tsne\"\n",
    "\n",
    "def get_loss(**kwargs):\n",
    "\tif method == \"tsne\":\n",
    "\t\temb = TSNE(n_components=2, perplexity=kwargs[\"perplexity\"], random_state=0).fit_transform(digits)\n",
    "\telif method == \"umap\":\n",
    "\t\temb = umap.UMAP(n_components=2, n_neighbors=int(kwargs[\"n_neighbors\"]), min_dist=kwargs[\"min_dist\"], random_state=0).fit_transform(digits)\n",
    "\temb=digits\n",
    "\tmetrics = SNC(digits, emb, iteration=300)\n",
    "\tmetrics.fit()\n",
    "\tstead, cohev = metrics.steadiness(), metrics.cohesiveness()\n",
    "\treturn (stead * cohev) / (stead + cohev)\n",
    "\n",
    "optimizer = BayesianOptimization(\n",
    "\tf=get_loss,\n",
    "\tpbounds={\n",
    "\t\t\"perplexity\": (5, 500)\n",
    "\t},\n",
    "\trandom_state=0,\n",
    "\tverbose=2\n",
    ")\n",
    "\n",
    "optimizer.maximize(init_points=5, n_iter=25)\n",
    "\n",
    "max_hyperparameter = optimizer.max[\"params\"]\n",
    "if method == \"tsne\":\n",
    "\temb = TSNE(n_components=2, perplexity=max_hyperparameter[\"perplexity\"], random_state=0).fit_transform(digits)\n",
    "elif method == \"umap\":\n",
    "\temb = umap.UMAP(n_components=2, n_neighbors=int(max_hyperparameter[\"n_neighbors\"]), min_dist=max_hyperparameter[\"min_dist\"], random_state=0).fit_transform(digits)\n",
    "\t\t\n",
    "\n",
    "\n",
    "plt.scatter(emb[:, 0], emb[:, 1], s=0.2)\n"
   ]
  },
  {
   "cell_type": "code",
   "execution_count": 15,
   "metadata": {},
   "outputs": [
    {
     "name": "stdout",
     "output_type": "stream",
     "text": [
      "initial loss 0.38164573025594417\n",
      "|   iter    |  target   | perple... |\n",
      "-------------------------------------\n",
      "new loss 0.4049441828986467\n",
      "1 - ambiguity 0.5129631170093489\n",
      "new loss 0.40644616746751006\n",
      "1 - ambiguity 0.42588232444926266\n",
      "new loss 0.40466145188893954\n",
      "1 - ambiguity 0.4218615634308662\n",
      "new loss 0.41473238751293\n",
      "1 - ambiguity 0.48273265741194005\n",
      "new loss 0.4183137151471117\n",
      "1 - ambiguity 0.6185463654659947\n",
      "| \u001b[95m 5       \u001b[0m | \u001b[95m 0.6185  \u001b[0m | \u001b[95m 214.7   \u001b[0m |\n",
      "new loss 0.40375403056800785\n",
      "1 - ambiguity 0.48547842645914185\n",
      "new loss 0.424039934196632\n",
      "1 - ambiguity 0.5839126615287064\n",
      "new loss 0.3917027153449805\n",
      "1 - ambiguity 0.47473713247975535\n",
      "new loss 0.3821939494365114\n",
      "1 - ambiguity 0.37754867031403316\n",
      "new loss 0.41879805583233864\n",
      "1 - ambiguity 0.5685893385360639\n",
      "new loss 0.4194417684427686\n",
      "1 - ambiguity 0.617718595010956\n",
      "new loss 0.4253381551507956\n",
      "1 - ambiguity 0.604473884300872\n",
      "new loss 0.41941487108092146\n",
      "1 - ambiguity 0.711184239359136\n",
      "| \u001b[95m 13      \u001b[0m | \u001b[95m 0.7112  \u001b[0m | \u001b[95m 159.7   \u001b[0m |\n",
      "new loss 0.4236355631978958\n",
      "1 - ambiguity 0.729250782026946\n",
      "| \u001b[95m 14      \u001b[0m | \u001b[95m 0.7293  \u001b[0m | \u001b[95m 148.0   \u001b[0m |\n",
      "new loss 0.4252953269580581\n",
      "1 - ambiguity 0.7372025884134927\n",
      "| \u001b[95m 15      \u001b[0m | \u001b[95m 0.7372  \u001b[0m | \u001b[95m 130.5   \u001b[0m |\n",
      "new loss 0.4231041237333175\n",
      "1 - ambiguity 0.7070453963953436\n",
      "new loss 0.42916765306929056\n",
      "1 - ambiguity 0.7934940781004419\n",
      "| \u001b[95m 17      \u001b[0m | \u001b[95m 0.7935  \u001b[0m | \u001b[95m 84.49   \u001b[0m |\n"
     ]
    },
    {
     "ename": "KeyboardInterrupt",
     "evalue": "",
     "output_type": "error",
     "traceback": [
      "\u001b[0;31m---------------------------------------------------------------------------\u001b[0m",
      "\u001b[0;31mKeyError\u001b[0m                                  Traceback (most recent call last)",
      "File \u001b[0;32m~/anaconda3/envs/cambiguity/lib/python3.9/site-packages/bayes_opt/target_space.py:191\u001b[0m, in \u001b[0;36mTargetSpace.probe\u001b[0;34m(self, params)\u001b[0m\n\u001b[1;32m    190\u001b[0m \u001b[39mtry\u001b[39;00m:\n\u001b[0;32m--> 191\u001b[0m     target \u001b[39m=\u001b[39m \u001b[39mself\u001b[39;49m\u001b[39m.\u001b[39;49m_cache[_hashable(x)]\n\u001b[1;32m    192\u001b[0m \u001b[39mexcept\u001b[39;00m \u001b[39mKeyError\u001b[39;00m:\n",
      "\u001b[0;31mKeyError\u001b[0m: (64.72415125015965,)",
      "\nDuring handling of the above exception, another exception occurred:\n",
      "\u001b[0;31mKeyboardInterrupt\u001b[0m                         Traceback (most recent call last)",
      "\u001b[1;32m/home/hj/cluster-ambiguity/src/clams/test_ambreducer.ipynb Cell 3\u001b[0m in \u001b[0;36m<cell line: 4>\u001b[0;34m()\u001b[0m\n\u001b[1;32m      <a href='vscode-notebook-cell://ssh-remote%2Bold.hcil.snu.ac.kr/home/hj/cluster-ambiguity/src/clams/test_ambreducer.ipynb#W2sdnNjb2RlLXJlbW90ZQ%3D%3D?line=0'>1</a>\u001b[0m amb \u001b[39m=\u001b[39m ambr\u001b[39m.\u001b[39mAmbReducer(method\u001b[39m=\u001b[39m\u001b[39m\"\u001b[39m\u001b[39mtsne\u001b[39m\u001b[39m\"\u001b[39m, metric\u001b[39m=\u001b[39m\u001b[39m\"\u001b[39m\u001b[39msnc\u001b[39m\u001b[39m\"\u001b[39m, threshold_loss\u001b[39m=\u001b[39m\u001b[39m0.05\u001b[39m, S\u001b[39m=\u001b[39m\u001b[39m3.0\u001b[39m, verbose\u001b[39m=\u001b[39m\u001b[39m1\u001b[39m)\n\u001b[1;32m      <a href='vscode-notebook-cell://ssh-remote%2Bold.hcil.snu.ac.kr/home/hj/cluster-ambiguity/src/clams/test_ambreducer.ipynb#W2sdnNjb2RlLXJlbW90ZQ%3D%3D?line=1'>2</a>\u001b[0m amb\u001b[39m.\u001b[39mfit(raw, emb)\n\u001b[0;32m----> <a href='vscode-notebook-cell://ssh-remote%2Bold.hcil.snu.ac.kr/home/hj/cluster-ambiguity/src/clams/test_ambreducer.ipynb#W2sdnNjb2RlLXJlbW90ZQ%3D%3D?line=3'>4</a>\u001b[0m new_emb \u001b[39m=\u001b[39m amb\u001b[39m.\u001b[39;49moptimize()\n",
      "File \u001b[0;32m~/cluster-ambiguity/src/clams/AmbReducer.py:103\u001b[0m, in \u001b[0;36mAmbReducer.optimize\u001b[0;34m(self)\u001b[0m\n\u001b[1;32m     93\u001b[0m \u001b[39mprint\u001b[39m(\u001b[39m\"\u001b[39m\u001b[39minitial loss\u001b[39m\u001b[39m\"\u001b[39m, \u001b[39mself\u001b[39m\u001b[39m.\u001b[39minit_loss)\n\u001b[1;32m     96\u001b[0m optimizer \u001b[39m=\u001b[39m BayesianOptimization(\n\u001b[1;32m     97\u001b[0m \tf\u001b[39m=\u001b[39m__get_loss_wrapper,\n\u001b[1;32m     98\u001b[0m \tpbounds\u001b[39m=\u001b[39m\u001b[39mself\u001b[39m\u001b[39m.\u001b[39mhyperparameter_range[\u001b[39mself\u001b[39m\u001b[39m.\u001b[39mmethod],\n\u001b[1;32m     99\u001b[0m \trandom_state\u001b[39m=\u001b[39m\u001b[39m0\u001b[39m,\n\u001b[1;32m    100\u001b[0m \tverbose\u001b[39m=\u001b[39m\u001b[39mself\u001b[39m\u001b[39m.\u001b[39mverbose\n\u001b[1;32m    101\u001b[0m )\n\u001b[0;32m--> 103\u001b[0m optimizer\u001b[39m.\u001b[39;49mmaximize(init_points\u001b[39m=\u001b[39;49m\u001b[39m10\u001b[39;49m, n_iter\u001b[39m=\u001b[39;49m\u001b[39m50\u001b[39;49m)\n\u001b[1;32m    105\u001b[0m max_hyperparameter \u001b[39m=\u001b[39m optimizer\u001b[39m.\u001b[39mmax[\u001b[39m\"\u001b[39m\u001b[39mparams\u001b[39m\u001b[39m\"\u001b[39m]\n\u001b[1;32m    106\u001b[0m \u001b[39mif\u001b[39;00m \u001b[39mself\u001b[39m\u001b[39m.\u001b[39mmethod \u001b[39m==\u001b[39m \u001b[39m\"\u001b[39m\u001b[39mtsne\u001b[39m\u001b[39m\"\u001b[39m:\n",
      "File \u001b[0;32m~/anaconda3/envs/cambiguity/lib/python3.9/site-packages/bayes_opt/bayesian_optimization.py:185\u001b[0m, in \u001b[0;36mBayesianOptimization.maximize\u001b[0;34m(self, init_points, n_iter, acq, kappa, kappa_decay, kappa_decay_delay, xi, **gp_params)\u001b[0m\n\u001b[1;32m    182\u001b[0m     x_probe \u001b[39m=\u001b[39m \u001b[39mself\u001b[39m\u001b[39m.\u001b[39msuggest(util)\n\u001b[1;32m    183\u001b[0m     iteration \u001b[39m+\u001b[39m\u001b[39m=\u001b[39m \u001b[39m1\u001b[39m\n\u001b[0;32m--> 185\u001b[0m \u001b[39mself\u001b[39;49m\u001b[39m.\u001b[39;49mprobe(x_probe, lazy\u001b[39m=\u001b[39;49m\u001b[39mFalse\u001b[39;49;00m)\n\u001b[1;32m    187\u001b[0m \u001b[39mif\u001b[39;00m \u001b[39mself\u001b[39m\u001b[39m.\u001b[39m_bounds_transformer:\n\u001b[1;32m    188\u001b[0m     \u001b[39mself\u001b[39m\u001b[39m.\u001b[39mset_bounds(\n\u001b[1;32m    189\u001b[0m         \u001b[39mself\u001b[39m\u001b[39m.\u001b[39m_bounds_transformer\u001b[39m.\u001b[39mtransform(\u001b[39mself\u001b[39m\u001b[39m.\u001b[39m_space))\n",
      "File \u001b[0;32m~/anaconda3/envs/cambiguity/lib/python3.9/site-packages/bayes_opt/bayesian_optimization.py:116\u001b[0m, in \u001b[0;36mBayesianOptimization.probe\u001b[0;34m(self, params, lazy)\u001b[0m\n\u001b[1;32m    114\u001b[0m     \u001b[39mself\u001b[39m\u001b[39m.\u001b[39m_queue\u001b[39m.\u001b[39madd(params)\n\u001b[1;32m    115\u001b[0m \u001b[39melse\u001b[39;00m:\n\u001b[0;32m--> 116\u001b[0m     \u001b[39mself\u001b[39;49m\u001b[39m.\u001b[39;49m_space\u001b[39m.\u001b[39;49mprobe(params)\n\u001b[1;32m    117\u001b[0m     \u001b[39mself\u001b[39m\u001b[39m.\u001b[39mdispatch(Events\u001b[39m.\u001b[39mOPTIMIZATION_STEP)\n",
      "File \u001b[0;32m~/anaconda3/envs/cambiguity/lib/python3.9/site-packages/bayes_opt/target_space.py:194\u001b[0m, in \u001b[0;36mTargetSpace.probe\u001b[0;34m(self, params)\u001b[0m\n\u001b[1;32m    192\u001b[0m \u001b[39mexcept\u001b[39;00m \u001b[39mKeyError\u001b[39;00m:\n\u001b[1;32m    193\u001b[0m     params \u001b[39m=\u001b[39m \u001b[39mdict\u001b[39m(\u001b[39mzip\u001b[39m(\u001b[39mself\u001b[39m\u001b[39m.\u001b[39m_keys, x))\n\u001b[0;32m--> 194\u001b[0m     target \u001b[39m=\u001b[39m \u001b[39mself\u001b[39;49m\u001b[39m.\u001b[39;49mtarget_func(\u001b[39m*\u001b[39;49m\u001b[39m*\u001b[39;49mparams)\n\u001b[1;32m    195\u001b[0m     \u001b[39mself\u001b[39m\u001b[39m.\u001b[39mregister(x, target)\n\u001b[1;32m    196\u001b[0m \u001b[39mreturn\u001b[39;00m target\n",
      "File \u001b[0;32m~/cluster-ambiguity/src/clams/AmbReducer.py:75\u001b[0m, in \u001b[0;36mAmbReducer.optimize.<locals>.__get_loss_wrapper\u001b[0;34m(**kwargs)\u001b[0m\n\u001b[1;32m     73\u001b[0m \u001b[39melif\u001b[39;00m \u001b[39mself\u001b[39m\u001b[39m.\u001b[39mmethod \u001b[39m==\u001b[39m \u001b[39m\"\u001b[39m\u001b[39mumap\u001b[39m\u001b[39m\"\u001b[39m:\n\u001b[1;32m     74\u001b[0m \tnew_emb \u001b[39m=\u001b[39m umap\u001b[39m.\u001b[39mUMAP(n_components\u001b[39m=\u001b[39m\u001b[39m2\u001b[39m, n_neighbors\u001b[39m=\u001b[39m\u001b[39mint\u001b[39m(kwargs[\u001b[39m\"\u001b[39m\u001b[39mn_neighbors\u001b[39m\u001b[39m\"\u001b[39m]), min_dist\u001b[39m=\u001b[39mkwargs[\u001b[39m\"\u001b[39m\u001b[39mmin_dist\u001b[39m\u001b[39m\"\u001b[39m], init\u001b[39m=\u001b[39m\u001b[39mself\u001b[39m\u001b[39m.\u001b[39memb)\u001b[39m.\u001b[39mfit_transform(\u001b[39mself\u001b[39m\u001b[39m.\u001b[39mraw)\n\u001b[0;32m---> 75\u001b[0m new_loss \u001b[39m=\u001b[39m  \u001b[39mself\u001b[39;49m\u001b[39m.\u001b[39;49m__get_loss(\u001b[39mself\u001b[39;49m\u001b[39m.\u001b[39;49mraw, new_emb) \n\u001b[1;32m     77\u001b[0m \u001b[39mprint\u001b[39m(\u001b[39m\"\u001b[39m\u001b[39mnew loss\u001b[39m\u001b[39m\"\u001b[39m, new_loss)\n\u001b[1;32m     78\u001b[0m \u001b[39mif\u001b[39;00m \u001b[39mself\u001b[39m\u001b[39m.\u001b[39minit_loss \u001b[39m-\u001b[39m new_loss \u001b[39m>\u001b[39m \u001b[39mself\u001b[39m\u001b[39m.\u001b[39mthreshold_loss:\n",
      "File \u001b[0;32m~/cluster-ambiguity/src/clams/AmbReducer.py:58\u001b[0m, in \u001b[0;36mAmbReducer.__get_loss\u001b[0;34m(self, raw, emb)\u001b[0m\n\u001b[1;32m     56\u001b[0m \tmetrics \u001b[39m=\u001b[39m SNC(raw, emb, iteration\u001b[39m=\u001b[39m\u001b[39m300\u001b[39m)\n\u001b[1;32m     57\u001b[0m \tmetrics\u001b[39m.\u001b[39mfit()\n\u001b[0;32m---> 58\u001b[0m \tstead, cohev \u001b[39m=\u001b[39m metrics\u001b[39m.\u001b[39msteadiness(), metrics\u001b[39m.\u001b[39;49mcohesiveness()\n\u001b[1;32m     59\u001b[0m \t\u001b[39mreturn\u001b[39;00m (stead \u001b[39m*\u001b[39m cohev) \u001b[39m/\u001b[39m (stead \u001b[39m+\u001b[39m cohev)\n\u001b[1;32m     60\u001b[0m \u001b[39melif\u001b[39;00m \u001b[39mself\u001b[39m\u001b[39m.\u001b[39mmetric \u001b[39m==\u001b[39m \u001b[39m\"\u001b[39m\u001b[39mtnc\u001b[39m\u001b[39m\"\u001b[39m:\n",
      "File \u001b[0;32m~/anaconda3/envs/cambiguity/lib/python3.9/site-packages/snc/snc.py:81\u001b[0m, in \u001b[0;36mSNC.cohesiveness\u001b[0;34m(self)\u001b[0m\n\u001b[1;32m     80\u001b[0m \u001b[39mdef\u001b[39;00m \u001b[39mcohesiveness\u001b[39m(\u001b[39mself\u001b[39m):\n\u001b[0;32m---> 81\u001b[0m     \u001b[39mself\u001b[39m\u001b[39m.\u001b[39mcohev_score \u001b[39m=\u001b[39m \u001b[39mself\u001b[39;49m\u001b[39m.\u001b[39;49m__measure(\u001b[39m\"\u001b[39;49m\u001b[39mcohesiveness\u001b[39;49m\u001b[39m\"\u001b[39;49m, \u001b[39mself\u001b[39;49m\u001b[39m.\u001b[39;49mmax_stretch, \u001b[39mself\u001b[39;49m\u001b[39m.\u001b[39;49mmin_stretch)\n\u001b[1;32m     82\u001b[0m     \u001b[39mself\u001b[39m\u001b[39m.\u001b[39mfinished_cohev \u001b[39m=\u001b[39m \u001b[39mTrue\u001b[39;00m\n\u001b[1;32m     83\u001b[0m     \u001b[39mreturn\u001b[39;00m \u001b[39mself\u001b[39m\u001b[39m.\u001b[39mcohev_score\n",
      "File \u001b[0;32m~/anaconda3/envs/cambiguity/lib/python3.9/site-packages/snc/snc.py:140\u001b[0m, in \u001b[0;36mSNC.__measure\u001b[0;34m(self, mode, max_val, min_val)\u001b[0m\n\u001b[1;32m    138\u001b[0m weight_sum \u001b[39m=\u001b[39m \u001b[39m0\u001b[39m\n\u001b[1;32m    139\u001b[0m \u001b[39mfor\u001b[39;00m _ \u001b[39min\u001b[39;00m \u001b[39mrange\u001b[39m(\u001b[39mself\u001b[39m\u001b[39m.\u001b[39miter):\n\u001b[0;32m--> 140\u001b[0m     partial_distortion_sum, partial_weight_sum \u001b[39m=\u001b[39m \u001b[39mself\u001b[39;49m\u001b[39m.\u001b[39;49m__measure_single_iter(mode, max_val, min_val)\n\u001b[1;32m    141\u001b[0m     distortion_sum \u001b[39m+\u001b[39m\u001b[39m=\u001b[39m partial_distortion_sum\n\u001b[1;32m    142\u001b[0m     weight_sum \u001b[39m+\u001b[39m\u001b[39m=\u001b[39m partial_weight_sum\n",
      "File \u001b[0;32m~/anaconda3/envs/cambiguity/lib/python3.9/site-packages/snc/snc.py:154\u001b[0m, in \u001b[0;36mSNC.__measure_single_iter\u001b[0;34m(self, mode, max_val, min_val)\u001b[0m\n\u001b[1;32m    152\u001b[0m \u001b[39mfor\u001b[39;00m i \u001b[39min\u001b[39;00m \u001b[39mrange\u001b[39m(\u001b[39mlen\u001b[39m(separated_clusters)):\n\u001b[1;32m    153\u001b[0m     \u001b[39mfor\u001b[39;00m j \u001b[39min\u001b[39;00m \u001b[39mrange\u001b[39m(i):\n\u001b[0;32m--> 154\u001b[0m         raw_dist, emb_dist \u001b[39m=\u001b[39m \u001b[39mself\u001b[39;49m\u001b[39m.\u001b[39;49mcstrat\u001b[39m.\u001b[39;49mcompute_distance(mode, np\u001b[39m.\u001b[39;49marray(separated_clusters[i]), \n\u001b[1;32m    155\u001b[0m                                                     np\u001b[39m.\u001b[39;49marray(separated_clusters[j]))\n\u001b[1;32m    156\u001b[0m         distance \u001b[39m=\u001b[39m \u001b[39mNone\u001b[39;00m\n\u001b[1;32m    157\u001b[0m         \u001b[39mif\u001b[39;00m mode \u001b[39m==\u001b[39m \u001b[39m\"\u001b[39m\u001b[39msteadiness\u001b[39m\u001b[39m\"\u001b[39m:\n",
      "File \u001b[0;32m~/anaconda3/envs/cambiguity/lib/python3.9/site-packages/snc/helpers/hparam_functions.py:311\u001b[0m, in \u001b[0;36mHparamFunctions.compute_distance\u001b[0;34m(self, mode, cluster_a, cluster_b)\u001b[0m\n\u001b[1;32m    310\u001b[0m \u001b[39mdef\u001b[39;00m \u001b[39mcompute_distance\u001b[39m(\u001b[39mself\u001b[39m, mode, cluster_a, cluster_b):\n\u001b[0;32m--> 311\u001b[0m     \u001b[39mreturn\u001b[39;00m \u001b[39mself\u001b[39;49m\u001b[39m.\u001b[39;49mget_cluster_distance(cluster_a, cluster_b, \u001b[39mself\u001b[39;49m\u001b[39m.\u001b[39;49mraw, \u001b[39mself\u001b[39;49m\u001b[39m.\u001b[39;49memb, \u001b[39mself\u001b[39;49m\u001b[39m.\u001b[39;49minfos, \u001b[39mself\u001b[39;49m\u001b[39m.\u001b[39;49mdist_parameter)\n",
      "File \u001b[0;32m~/anaconda3/envs/cambiguity/lib/python3.9/site-packages/snc/helpers/hparam_functions.py:163\u001b[0m, in \u001b[0;36mget_snn_cluster_distance\u001b[0;34m(cluster_a, cluster_b, raw, emb, infos, dist_parameter)\u001b[0m\n\u001b[1;32m    161\u001b[0m     cluster_b \u001b[39m=\u001b[39m cluster_b[\u001b[39m0\u001b[39m]\n\u001b[1;32m    162\u001b[0m raw_sim \u001b[39m=\u001b[39m np\u001b[39m.\u001b[39msum(((infos[\u001b[39m\"\u001b[39m\u001b[39mraw_snn_matrix\u001b[39m\u001b[39m\"\u001b[39m][cluster_a])\u001b[39m.\u001b[39mT)[cluster_b]) \u001b[39m/\u001b[39m pair_num\n\u001b[0;32m--> 163\u001b[0m emb_sim \u001b[39m=\u001b[39m np\u001b[39m.\u001b[39msum(((infos[\u001b[39m\"\u001b[39;49m\u001b[39memb_snn_matrix\u001b[39;49m\u001b[39m\"\u001b[39;49m][cluster_a])\u001b[39m.\u001b[39;49mT)[cluster_b]) \u001b[39m/\u001b[39m pair_num\n\u001b[1;32m    165\u001b[0m raw_dist \u001b[39m=\u001b[39m \u001b[39m1\u001b[39m \u001b[39m/\u001b[39m (raw_sim \u001b[39m+\u001b[39m dist_parameter[\u001b[39m\"\u001b[39m\u001b[39malpha\u001b[39m\u001b[39m\"\u001b[39m])\n\u001b[1;32m    166\u001b[0m emb_dist \u001b[39m=\u001b[39m \u001b[39m1\u001b[39m \u001b[39m/\u001b[39m (emb_sim \u001b[39m+\u001b[39m dist_parameter[\u001b[39m\"\u001b[39m\u001b[39malpha\u001b[39m\u001b[39m\"\u001b[39m])\n",
      "\u001b[0;31mKeyboardInterrupt\u001b[0m: "
     ]
    }
   ],
   "source": [
    "amb = ambr.AmbReducer(method=\"tsne\", metric=\"snc\", threshold_loss=0.05, S=3.0, verbose=1)\n",
    "amb.fit(raw, emb)\n",
    "\n",
    "new_emb = amb.optimize()"
   ]
  },
  {
   "cell_type": "code",
   "execution_count": null,
   "metadata": {},
   "outputs": [],
   "source": [
    "\n",
    "plt.scatter(new_emb[:, 0], new_emb[:, 1], s=0.2)"
   ]
  }
 ],
 "metadata": {
  "kernelspec": {
   "display_name": "Python 3.9.0 ('cambiguity')",
   "language": "python",
   "name": "python3"
  },
  "language_info": {
   "codemirror_mode": {
    "name": "ipython",
    "version": 3
   },
   "file_extension": ".py",
   "mimetype": "text/x-python",
   "name": "python",
   "nbconvert_exporter": "python",
   "pygments_lexer": "ipython3",
   "version": "3.9.0"
  },
  "orig_nbformat": 4,
  "vscode": {
   "interpreter": {
    "hash": "67b843df68ad62ab9d9a308ac42d910ba8af5accaed8452594a7c98329634d46"
   }
  }
 },
 "nbformat": 4,
 "nbformat_minor": 2
}
